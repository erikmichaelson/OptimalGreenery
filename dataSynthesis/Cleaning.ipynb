{
 "cells": [
  {
   "cell_type": "code",
   "execution_count": 14,
   "metadata": {},
   "outputs": [],
   "source": [
    "import matplotlib.pyplot as plt\n",
    "import pandas as pd\n",
    "import geopandas as gpd\n",
    "import numpy as np"
   ]
  },
  {
   "cell_type": "code",
   "execution_count": 2,
   "metadata": {},
   "outputs": [
    {
     "name": "stdout",
     "output_type": "stream",
     "text": [
      "       PointID  LandValue  BuildValue  TotalValue SchoolDist         CityName  \\\n",
      "0            0        0.0         0.0         0.0        272     EDEN PRAIRIE   \n",
      "1            0    37900.0    103800.0    141700.0        272     EDEN PRAIRIE   \n",
      "2            0        NaN         NaN         NaN       None             None   \n",
      "3            0    37900.0     97600.0    135500.0        272     EDEN PRAIRIE   \n",
      "4            0    37900.0    103800.0    141700.0        272     EDEN PRAIRIE   \n",
      "...        ...        ...         ...         ...        ...              ...   \n",
      "11504     9938    50800.0    191800.0    242600.0       0623        MAPLEWOOD   \n",
      "11505     9948   100900.0    229000.0    329900.0       0623   FALCON HEIGHTS   \n",
      "11506     9951  1192500.0         NaN   1192500.0       0622        MAPLEWOOD   \n",
      "11507     9964    81100.0    280100.0    361200.0       0622        MAPLEWOOD   \n",
      "11508     9969   663900.0   3387000.0   4050900.0       0624  VADNAIS HEIGHTS   \n",
      "\n",
      "      YearBuilt       SqMeters        LandUse  Grass/Shru  ...  Agricultur  \\\n",
      "0          1982   94027.072661    CONDOMINIUM    0.456667  ...         0.0   \n",
      "1          1982   94027.072661    CONDOMINIUM    0.456667  ...         0.0   \n",
      "2          None   94027.072661           None    0.456667  ...         0.0   \n",
      "3          1982   94027.072661    CONDOMINIUM    0.456667  ...         0.0   \n",
      "4          1982   94027.072661    CONDOMINIUM    0.456667  ...         0.0   \n",
      "...         ...            ...            ...         ...  ...         ...   \n",
      "11504      1954   11356.090000     Res 1 unit    0.275556  ...         0.0   \n",
      "11505      1930   18643.680000     Res 1 unit    0.191111  ...         0.0   \n",
      "11506      None  158994.000000  Co Srvc Other    0.255556  ...         0.0   \n",
      "11507      1989   10341.140000     Res 1 unit    0.197778  ...         0.0   \n",
      "11508      1979  165963.600000     Industrial    0.188889  ...         0.0   \n",
      "\n",
      "       Emergent W  Forested/S     River  Extraction    parkDist  index_righ  \\\n",
      "0        0.000000    0.006667  0.000000         0.0  185.224197           0   \n",
      "1        0.000000    0.006667  0.000000         0.0  185.224197           0   \n",
      "2        0.000000    0.006667  0.000000         0.0  185.224197           0   \n",
      "3        0.000000    0.006667  0.000000         0.0  185.224197           0   \n",
      "4        0.000000    0.006667  0.000000         0.0  185.224197           0   \n",
      "...           ...         ...       ...         ...         ...         ...   \n",
      "11504    0.000000    0.000000  0.000000         0.0  590.961914        9938   \n",
      "11505    0.115556    0.000000  0.000000         0.0  252.071411        9948   \n",
      "11506    0.000000    0.000000  0.000000         0.0    0.000000        9951   \n",
      "11507    0.135556    0.176667  0.000000         0.0  204.000000        9964   \n",
      "11508    0.025556    0.000000  0.093333         0.0  446.587036        9969   \n",
      "\n",
      "       avgAge      density                                           geometry  \n",
      "0        50.7  4989.495715  POLYGON ((466011.000 4965580.000, 466010.990 4...  \n",
      "1        50.7  4989.495715  POLYGON ((466011.000 4965580.000, 466010.990 4...  \n",
      "2        50.7  4989.495715  POLYGON ((466011.000 4965580.000, 466010.990 4...  \n",
      "3        50.7  4989.495715  POLYGON ((466011.000 4965580.000, 466010.990 4...  \n",
      "4        50.7  4989.495715  POLYGON ((466011.000 4965580.000, 466010.990 4...  \n",
      "...       ...          ...                                                ...  \n",
      "11504    34.3  2110.706510  POLYGON ((492232.000 4982269.000, 492231.990 4...  \n",
      "11505    46.3  4810.815263  POLYGON ((487616.000 4982265.000, 487615.990 4...  \n",
      "11506    39.7  2405.192756  POLYGON ((497720.000 4985765.000, 497719.990 4...  \n",
      "11507    43.1  2953.945595  POLYGON ((500740.000 4973416.000, 500739.990 4...  \n",
      "11508    36.5  1839.154864  POLYGON ((495380.000 4987680.000, 495379.990 4...  \n",
      "\n",
      "[11509 rows x 26 columns]\n"
     ]
    }
   ],
   "source": [
    "unclean = gpd.read_file('../data/MSP/final/unclean.shp')\n",
    "print(unclean)"
   ]
  },
  {
   "cell_type": "code",
   "execution_count": 73,
   "metadata": {},
   "outputs": [
    {
     "name": "stdout",
     "output_type": "stream",
     "text": [
      "RESIDENTIAL             2428\n",
      "CONDOMINIUM             1898\n",
      "Res 1 unit              1668\n",
      "FARM                     942\n",
      "COMMERCIAL-PREFERRED     797\n",
      "                        ... \n",
      "MH Park Class I            2\n",
      "T E Misc Co D 16           1\n",
      "UTILITY-PREFERRED          1\n",
      "SRR                        1\n",
      "College-Priv Res           1\n",
      "Name: LandUse, Length: 67, dtype: int64\n"
     ]
    }
   ],
   "source": [
    "uses = unclean['LandUse'].value_counts()\n",
    "print(uses)\n",
    "#plt.hist(uses)"
   ]
  },
  {
   "cell_type": "code",
   "execution_count": 5,
   "metadata": {},
   "outputs": [],
   "source": [
    "import geopandas as gpd\n",
    "unclean.to_file('../data/MSP/final/unclean.shp')"
   ]
  },
  {
   "cell_type": "code",
   "execution_count": 4,
   "metadata": {},
   "outputs": [
    {
     "name": "stdout",
     "output_type": "stream",
     "text": [
      "11509\n"
     ]
    }
   ],
   "source": [
    "print(len(unclean))"
   ]
  },
  {
   "cell_type": "code",
   "execution_count": 66,
   "metadata": {},
   "outputs": [],
   "source": [
    "clean = unclean"
   ]
  },
  {
   "cell_type": "code",
   "execution_count": 40,
   "metadata": {},
   "outputs": [
    {
     "name": "stdout",
     "output_type": "stream",
     "text": [
      "201\n"
     ]
    }
   ],
   "source": [
    "fails = []\n",
    "for i in range (len(unclean['TotalValue'])):\n",
    "    try:\n",
    "        clean.at[i, 'TotalValue'] = int(unclean.at[i, 'TotalValue'])\n",
    "    except:\n",
    "        fails.append(i)\n",
    "print(len(fails))"
   ]
  },
  {
   "cell_type": "code",
   "execution_count": 47,
   "metadata": {},
   "outputs": [
    {
     "ename": "KeyError",
     "evalue": "'[2] not found in axis'",
     "output_type": "error",
     "traceback": [
      "\u001b[0;31m---------------------------------------------------------------------------\u001b[0m",
      "\u001b[0;31mKeyError\u001b[0m                                  Traceback (most recent call last)",
      "\u001b[0;32m<ipython-input-47-1d8403cc3819>\u001b[0m in \u001b[0;36m<module>\u001b[0;34m\u001b[0m\n\u001b[1;32m      1\u001b[0m \u001b[0;32mfor\u001b[0m \u001b[0mf\u001b[0m \u001b[0;32min\u001b[0m \u001b[0mfails\u001b[0m\u001b[0;34m:\u001b[0m\u001b[0;34m\u001b[0m\u001b[0;34m\u001b[0m\u001b[0m\n\u001b[0;32m----> 2\u001b[0;31m     \u001b[0mclean\u001b[0m\u001b[0;34m.\u001b[0m\u001b[0mdrop\u001b[0m\u001b[0;34m(\u001b[0m\u001b[0mf\u001b[0m\u001b[0;34m)\u001b[0m\u001b[0;34m\u001b[0m\u001b[0;34m\u001b[0m\u001b[0m\n\u001b[0m\u001b[1;32m      3\u001b[0m \u001b[0mprint\u001b[0m\u001b[0;34m(\u001b[0m\u001b[0mlen\u001b[0m\u001b[0;34m(\u001b[0m\u001b[0munclean\u001b[0m\u001b[0;34m)\u001b[0m\u001b[0;34m,\u001b[0m \u001b[0;34m(\u001b[0m\u001b[0mlen\u001b[0m\u001b[0;34m(\u001b[0m\u001b[0mclean\u001b[0m\u001b[0;34m)\u001b[0m\u001b[0;34m+\u001b[0m\u001b[0mlen\u001b[0m\u001b[0;34m(\u001b[0m\u001b[0mfails\u001b[0m\u001b[0;34m)\u001b[0m\u001b[0;34m)\u001b[0m\u001b[0;34m)\u001b[0m\u001b[0;34m\u001b[0m\u001b[0;34m\u001b[0m\u001b[0m\n\u001b[1;32m      4\u001b[0m \u001b[0;32massert\u001b[0m \u001b[0mlen\u001b[0m\u001b[0;34m(\u001b[0m\u001b[0munclean\u001b[0m\u001b[0;34m)\u001b[0m\u001b[0;34m==\u001b[0m\u001b[0mlen\u001b[0m\u001b[0;34m(\u001b[0m\u001b[0mclean\u001b[0m\u001b[0;34m)\u001b[0m\u001b[0;34m+\u001b[0m\u001b[0mlen\u001b[0m\u001b[0;34m(\u001b[0m\u001b[0mfails\u001b[0m\u001b[0;34m)\u001b[0m\u001b[0;34m\u001b[0m\u001b[0;34m\u001b[0m\u001b[0m\n",
      "\u001b[0;32m~/.pyenv/versions/3.8.1/lib/python3.8/site-packages/pandas/core/frame.py\u001b[0m in \u001b[0;36mdrop\u001b[0;34m(self, labels, axis, index, columns, level, inplace, errors)\u001b[0m\n\u001b[1;32m   3988\u001b[0m                 \u001b[0mweight\u001b[0m  \u001b[0;36m1.0\u001b[0m     \u001b[0;36m0.8\u001b[0m\u001b[0;34m\u001b[0m\u001b[0;34m\u001b[0m\u001b[0m\n\u001b[1;32m   3989\u001b[0m         \"\"\"\n\u001b[0;32m-> 3990\u001b[0;31m         return super().drop(\n\u001b[0m\u001b[1;32m   3991\u001b[0m             \u001b[0mlabels\u001b[0m\u001b[0;34m=\u001b[0m\u001b[0mlabels\u001b[0m\u001b[0;34m,\u001b[0m\u001b[0;34m\u001b[0m\u001b[0;34m\u001b[0m\u001b[0m\n\u001b[1;32m   3992\u001b[0m             \u001b[0maxis\u001b[0m\u001b[0;34m=\u001b[0m\u001b[0maxis\u001b[0m\u001b[0;34m,\u001b[0m\u001b[0;34m\u001b[0m\u001b[0;34m\u001b[0m\u001b[0m\n",
      "\u001b[0;32m~/.pyenv/versions/3.8.1/lib/python3.8/site-packages/pandas/core/generic.py\u001b[0m in \u001b[0;36mdrop\u001b[0;34m(self, labels, axis, index, columns, level, inplace, errors)\u001b[0m\n\u001b[1;32m   3934\u001b[0m         \u001b[0;32mfor\u001b[0m \u001b[0maxis\u001b[0m\u001b[0;34m,\u001b[0m \u001b[0mlabels\u001b[0m \u001b[0;32min\u001b[0m \u001b[0maxes\u001b[0m\u001b[0;34m.\u001b[0m\u001b[0mitems\u001b[0m\u001b[0;34m(\u001b[0m\u001b[0;34m)\u001b[0m\u001b[0;34m:\u001b[0m\u001b[0;34m\u001b[0m\u001b[0;34m\u001b[0m\u001b[0m\n\u001b[1;32m   3935\u001b[0m             \u001b[0;32mif\u001b[0m \u001b[0mlabels\u001b[0m \u001b[0;32mis\u001b[0m \u001b[0;32mnot\u001b[0m \u001b[0;32mNone\u001b[0m\u001b[0;34m:\u001b[0m\u001b[0;34m\u001b[0m\u001b[0;34m\u001b[0m\u001b[0m\n\u001b[0;32m-> 3936\u001b[0;31m                 \u001b[0mobj\u001b[0m \u001b[0;34m=\u001b[0m \u001b[0mobj\u001b[0m\u001b[0;34m.\u001b[0m\u001b[0m_drop_axis\u001b[0m\u001b[0;34m(\u001b[0m\u001b[0mlabels\u001b[0m\u001b[0;34m,\u001b[0m \u001b[0maxis\u001b[0m\u001b[0;34m,\u001b[0m \u001b[0mlevel\u001b[0m\u001b[0;34m=\u001b[0m\u001b[0mlevel\u001b[0m\u001b[0;34m,\u001b[0m \u001b[0merrors\u001b[0m\u001b[0;34m=\u001b[0m\u001b[0merrors\u001b[0m\u001b[0;34m)\u001b[0m\u001b[0;34m\u001b[0m\u001b[0;34m\u001b[0m\u001b[0m\n\u001b[0m\u001b[1;32m   3937\u001b[0m \u001b[0;34m\u001b[0m\u001b[0m\n\u001b[1;32m   3938\u001b[0m         \u001b[0;32mif\u001b[0m \u001b[0minplace\u001b[0m\u001b[0;34m:\u001b[0m\u001b[0;34m\u001b[0m\u001b[0;34m\u001b[0m\u001b[0m\n",
      "\u001b[0;32m~/.pyenv/versions/3.8.1/lib/python3.8/site-packages/pandas/core/generic.py\u001b[0m in \u001b[0;36m_drop_axis\u001b[0;34m(self, labels, axis, level, errors)\u001b[0m\n\u001b[1;32m   3968\u001b[0m                 \u001b[0mnew_axis\u001b[0m \u001b[0;34m=\u001b[0m \u001b[0maxis\u001b[0m\u001b[0;34m.\u001b[0m\u001b[0mdrop\u001b[0m\u001b[0;34m(\u001b[0m\u001b[0mlabels\u001b[0m\u001b[0;34m,\u001b[0m \u001b[0mlevel\u001b[0m\u001b[0;34m=\u001b[0m\u001b[0mlevel\u001b[0m\u001b[0;34m,\u001b[0m \u001b[0merrors\u001b[0m\u001b[0;34m=\u001b[0m\u001b[0merrors\u001b[0m\u001b[0;34m)\u001b[0m\u001b[0;34m\u001b[0m\u001b[0;34m\u001b[0m\u001b[0m\n\u001b[1;32m   3969\u001b[0m             \u001b[0;32melse\u001b[0m\u001b[0;34m:\u001b[0m\u001b[0;34m\u001b[0m\u001b[0;34m\u001b[0m\u001b[0m\n\u001b[0;32m-> 3970\u001b[0;31m                 \u001b[0mnew_axis\u001b[0m \u001b[0;34m=\u001b[0m \u001b[0maxis\u001b[0m\u001b[0;34m.\u001b[0m\u001b[0mdrop\u001b[0m\u001b[0;34m(\u001b[0m\u001b[0mlabels\u001b[0m\u001b[0;34m,\u001b[0m \u001b[0merrors\u001b[0m\u001b[0;34m=\u001b[0m\u001b[0merrors\u001b[0m\u001b[0;34m)\u001b[0m\u001b[0;34m\u001b[0m\u001b[0;34m\u001b[0m\u001b[0m\n\u001b[0m\u001b[1;32m   3971\u001b[0m             \u001b[0mresult\u001b[0m \u001b[0;34m=\u001b[0m \u001b[0mself\u001b[0m\u001b[0;34m.\u001b[0m\u001b[0mreindex\u001b[0m\u001b[0;34m(\u001b[0m\u001b[0;34m**\u001b[0m\u001b[0;34m{\u001b[0m\u001b[0maxis_name\u001b[0m\u001b[0;34m:\u001b[0m \u001b[0mnew_axis\u001b[0m\u001b[0;34m}\u001b[0m\u001b[0;34m)\u001b[0m\u001b[0;34m\u001b[0m\u001b[0;34m\u001b[0m\u001b[0m\n\u001b[1;32m   3972\u001b[0m \u001b[0;34m\u001b[0m\u001b[0m\n",
      "\u001b[0;32m~/.pyenv/versions/3.8.1/lib/python3.8/site-packages/pandas/core/indexes/base.py\u001b[0m in \u001b[0;36mdrop\u001b[0;34m(self, labels, errors)\u001b[0m\n\u001b[1;32m   5016\u001b[0m         \u001b[0;32mif\u001b[0m \u001b[0mmask\u001b[0m\u001b[0;34m.\u001b[0m\u001b[0many\u001b[0m\u001b[0;34m(\u001b[0m\u001b[0;34m)\u001b[0m\u001b[0;34m:\u001b[0m\u001b[0;34m\u001b[0m\u001b[0;34m\u001b[0m\u001b[0m\n\u001b[1;32m   5017\u001b[0m             \u001b[0;32mif\u001b[0m \u001b[0merrors\u001b[0m \u001b[0;34m!=\u001b[0m \u001b[0;34m\"ignore\"\u001b[0m\u001b[0;34m:\u001b[0m\u001b[0;34m\u001b[0m\u001b[0;34m\u001b[0m\u001b[0m\n\u001b[0;32m-> 5018\u001b[0;31m                 \u001b[0;32mraise\u001b[0m \u001b[0mKeyError\u001b[0m\u001b[0;34m(\u001b[0m\u001b[0;34mf\"{labels[mask]} not found in axis\"\u001b[0m\u001b[0;34m)\u001b[0m\u001b[0;34m\u001b[0m\u001b[0;34m\u001b[0m\u001b[0m\n\u001b[0m\u001b[1;32m   5019\u001b[0m             \u001b[0mindexer\u001b[0m \u001b[0;34m=\u001b[0m \u001b[0mindexer\u001b[0m\u001b[0;34m[\u001b[0m\u001b[0;34m~\u001b[0m\u001b[0mmask\u001b[0m\u001b[0;34m]\u001b[0m\u001b[0;34m\u001b[0m\u001b[0;34m\u001b[0m\u001b[0m\n\u001b[1;32m   5020\u001b[0m         \u001b[0;32mreturn\u001b[0m \u001b[0mself\u001b[0m\u001b[0;34m.\u001b[0m\u001b[0mdelete\u001b[0m\u001b[0;34m(\u001b[0m\u001b[0mindexer\u001b[0m\u001b[0;34m)\u001b[0m\u001b[0;34m\u001b[0m\u001b[0;34m\u001b[0m\u001b[0m\n",
      "\u001b[0;31mKeyError\u001b[0m: '[2] not found in axis'"
     ]
    }
   ],
   "source": [
    "for f in fails:\n",
    "    clean.drop(f)\n",
    "print(len(unclean), (len(clean)+len(fails)))\n",
    "assert len(unclean)==len(clean)+len(fails)"
   ]
  },
  {
   "cell_type": "code",
   "execution_count": 64,
   "metadata": {},
   "outputs": [
    {
     "name": "stdout",
     "output_type": "stream",
     "text": [
      "22616\n"
     ]
    }
   ],
   "source": [
    "above100 = clean[clean['TotalValue']<100000]\n",
    "clean = (clean[clean['LandUse']=='RESIDENTIAL']).append(clean[clean['LandUse']=='Res 1 unit'])\n",
    "print(len(clean))"
   ]
  },
  {
   "cell_type": "code",
   "execution_count": 74,
   "metadata": {},
   "outputs": [
    {
     "name": "stdout",
     "output_type": "stream",
     "text": [
      "11308\n",
      "2428\n",
      "1668\n",
      "1898\n",
      "5994\n"
     ]
    }
   ],
   "source": [
    "print(len(clean))\n",
    "RES = clean[clean['LandUse']=='RESIDENTIAL']\n",
    "print(len(RES))\n",
    "resUnit = clean[clean['LandUse']=='Res 1 unit']\n",
    "print(len(resUnit))\n",
    "condo = clean[clean['LandUse']=='CONDOMINIUM']\n",
    "print(len(condo))\n",
    "c = resUnit.append(RES)\n",
    "c = c.append(condo)\n",
    "print(len(c))\n",
    "assert len(c)==len(RES)+len(resUnit)+len(condo)"
   ]
  },
  {
   "cell_type": "code",
   "execution_count": 99,
   "metadata": {},
   "outputs": [
    {
     "name": "stdout",
     "output_type": "stream",
     "text": [
      "203852.92798385888 1.0 5662100.0\n"
     ]
    },
    {
     "data": {
      "image/png": "[encoded data removed]",
      "text/plain": [
       "<Figure size 432x288 with 1 Axes>"
      ]
     },
     "metadata": {
      "needs_background": "light"
     },
     "output_type": "display_data"
    }
   ],
   "source": [
    "#plt.hist(c['density'])\n",
    "c['lgTV'] = np.log(c['TotalValue'],where=c['TotalValue']>100)\n",
    "#print(test)\n",
    "fig, ax = plt.subplots()\n",
    "ax.hist(test, bins=50)\n",
    "print(np.exp(c['lgTV'].mean()), np.exp(c['lgTV'].min()), np.exp(c['lgTV'].max()))\n",
    "#c['lgTVal'] = np.log(c['TotalValue'],where=c['TotalValue']>100)\n",
    "#plt.hist(clean['lgTVal'], bins=100)"
   ]
  },
  {
   "cell_type": "markdown",
   "metadata": {},
   "source": [
    "That's looking normalish - let's cut out anything below 8"
   ]
  },
  {
   "cell_type": "code",
   "execution_count": 110,
   "metadata": {},
   "outputs": [
    {
     "name": "stdout",
     "output_type": "stream",
     "text": [
      "213577.13183425268 5699.999999999998 5662100.0\n"
     ]
    }
   ],
   "source": [
    "c = c[c['lgTV']>8]\n",
    "print(np.exp(c['lgTV'].mean()), np.exp(c['lgTV'].min()), np.exp(c['lgTV'].max()))"
   ]
  },
  {
   "cell_type": "markdown",
   "metadata": {},
   "source": [
    "5700 is still too low for a house in this study. Let's try eliminating the condos"
   ]
  },
  {
   "cell_type": "code",
   "execution_count": 118,
   "metadata": {},
   "outputs": [
    {
     "name": "stdout",
     "output_type": "stream",
     "text": [
      "227855.08380114994 49500.00000000002 5662100.0 5802\n"
     ]
    }
   ],
   "source": [
    "b = c[c['LandUse']!='CONDOMINIUM']\n",
    "b = c[c['lgTV'] > 10.8]\n",
    "print(np.exp(b['lgTV'].mean()), np.exp(b['lgTV'].min()), np.exp(b['lgTV'].max()), len(b))"
   ]
  },
  {
   "cell_type": "markdown",
   "metadata": {},
   "source": [
    "$50,000 is a good cutoff value for a cheap property. In the Twin Cities, lower than that wouldn't match theory."
   ]
  },
  {
   "cell_type": "code",
   "execution_count": 121,
   "metadata": {},
   "outputs": [
    {
     "data": {
      "text/plain": [
       "(array([2.844e+03, 2.020e+03, 5.450e+02, 1.920e+02, 1.170e+02, 1.100e+01,\n",
       "        1.000e+00, 3.600e+01, 2.600e+01, 1.000e+00]),\n",
       " array([   92.0992658 ,  3147.39545698,  6202.69164817,  9257.98783935,\n",
       "        12313.28403053, 15368.58022171, 18423.87641289, 21479.17260408,\n",
       "        24534.46879526, 27589.76498644, 30645.06117762]),\n",
       " <a list of 10 Patch objects>)"
      ]
     },
     "execution_count": 121,
     "metadata": {},
     "output_type": "execute_result"
    },
    {
     "data": {
      "image/png": "[encoded data removed]",
      "text/plain": [
       "<Figure size 432x288 with 2 Axes>"
      ]
     },
     "metadata": {
      "needs_background": "light"
     },
     "output_type": "display_data"
    }
   ],
   "source": [
    "fig, axs = plt.subplots(2)\n",
    "axs[0].hist(b['lgTV'])\n",
    "axs[1].hist(b['density'])"
   ]
  },
  {
   "cell_type": "markdown",
   "metadata": {},
   "source": [
    "Now I'm realizing that the problem with my data comes from the fact that it skews rural relative to the population of MN. Let's look at a log of population density"
   ]
  },
  {
   "cell_type": "code",
   "execution_count": 126,
   "metadata": {},
   "outputs": [
    {
     "data": {
      "image/png": "[encoded data removed]",
      "text/plain": [
       "<Figure size 432x288 with 2 Axes>"
      ]
     },
     "metadata": {
      "needs_background": "light"
     },
     "output_type": "display_data"
    }
   ],
   "source": [
    "fig, axs = plt.subplots(2)\n",
    "\n",
    "axs[0].hist(b['lgTV'])\n",
    "axs[1].hist(b['density'], bins=50)\n",
    "axs[1].set_xscale('log')\n",
    "plt.show()"
   ]
  },
  {
   "cell_type": "markdown",
   "metadata": {},
   "source": [
    "There we go - a huge amount of these are in tracts below 10^3 = 1000 people/mi^2. The density of Hennepin as a whole is 2,232, Ramsey is 3,557, so this isn't representative. Additionally, since this project is for **urban** economics, I'll take out the blocks below 1000. ORRRR use a more subtle way: remove data from non-incorporated townships."
   ]
  },
  {
   "cell_type": "code",
   "execution_count": 127,
   "metadata": {},
   "outputs": [
    {
     "name": "stdout",
     "output_type": "stream",
     "text": [
      "MINNEAPOLIS         807\n",
      "ROSEVILLE           649\n",
      "MINNETONKA          446\n",
      "BLOOMINGTON         442\n",
      "BROOKLYN PARK       241\n",
      "PLYMOUTH            193\n",
      "ST PAUL             183\n",
      "EDEN PRAIRIE        178\n",
      "SHOREVIEW           172\n",
      "MAPLE GROVE         170\n",
      "BROOKLYN CENTER     165\n",
      "NEW BRIGHTON        149\n",
      "CORCORAN            146\n",
      "EDINA               129\n",
      "MINNETRISTA         129\n",
      "INDEPENDENCE        128\n",
      "HOPKINS             118\n",
      "LITTLE CANADA       106\n",
      "MEDINA              101\n",
      "ORONO                96\n",
      "MOUNDS VIEW          94\n",
      "MAPLEWOOD            93\n",
      "GREENFIELD           88\n",
      "DAYTON               81\n",
      "ROGERS               79\n",
      "CHAMPLIN             55\n",
      "GOLDEN VALLEY        47\n",
      "ST. LOUIS PARK       47\n",
      "NORTH OAKS           46\n",
      "WHITE BEAR LAKE      45\n",
      "VADNAIS HEIGHTS      39\n",
      "CRYSTAL              37\n",
      "RICHFIELD            33\n",
      "NEW HOPE             28\n",
      "SHOREWOOD            28\n",
      "WHITE BEAR TOWN      24\n",
      "ST. BONIFACIUS       23\n",
      "NORTH ST PAUL        21\n",
      "DEEPHAVEN            21\n",
      "HANOVER              16\n",
      "ARDEN HILLS          16\n",
      "ROBBINSDALE          16\n",
      "WAYZATA              15\n",
      "GEM LAKE             13\n",
      "MOUND                 6\n",
      "ST. ANTHONY           6\n",
      "LONG LAKE             5\n",
      "FALCON HEIGHTS        5\n",
      "MAPLE PLAIN           5\n",
      "OSSEO                 4\n",
      "WOODLAND              4\n",
      "ST ANTHONY            3\n",
      "TONKA BAY             3\n",
      "GREENWOOD             2\n",
      "LORETTO               2\n",
      "EXCELSIOR             1\n",
      "MINNETONKA BEACH      1\n",
      "SPRING LAKE PARK      1\n",
      "LAUDERDALE            1\n",
      "Name: CityName, dtype: int64\n"
     ]
    }
   ],
   "source": [
    "print(b['CityName'].value_counts()) # surprising"
   ]
  },
  {
   "cell_type": "code",
   "execution_count": 134,
   "metadata": {},
   "outputs": [
    {
     "name": "stdout",
     "output_type": "stream",
     "text": [
      "      PointID  LandValue  BuildValue  TotalValue SchoolDist         CityName  \\\n",
      "8925       31    54900.0    151700.0    206600.0       0622    NORTH ST PAUL   \n",
      "8930       44   350100.0    367400.0    717500.0       0282       ST ANTHONY   \n",
      "8931       52    24700.0    193400.0    218100.0       0625          ST PAUL   \n",
      "8933       57    70600.0    134200.0    204800.0       0621     NEW BRIGHTON   \n",
      "8935       77    88400.0    167000.0    255400.0       0624  WHITE BEAR TOWN   \n",
      "...       ...        ...         ...         ...        ...              ...   \n",
      "8663     9437    27000.0    153000.0    180000.0        011         CHAMPLIN   \n",
      "8664     9437    30000.0    158000.0    188000.0        011         CHAMPLIN   \n",
      "8666     9437    27000.0    153000.0    180000.0        011         CHAMPLIN   \n",
      "8667     9437    27000.0    153000.0    180000.0        011         CHAMPLIN   \n",
      "8668     9437    27000.0    153000.0    180000.0        011         CHAMPLIN   \n",
      "\n",
      "     YearBuilt      SqMeters      LandUse  Grass/Shru  ...  Forested/S  River  \\\n",
      "8925      1948           NaN   Res 1 unit    0.151111  ...    0.000000    0.0   \n",
      "8930      1951  63061.810000   Res 1 unit    0.093333  ...    0.000000    0.0   \n",
      "8931      1923   7000.090000   Res 1 unit    0.087778  ...    0.012222    0.0   \n",
      "8933      1963  10123.340000   Res 1 unit    0.092222  ...    0.000000    0.0   \n",
      "8935      1960  13246.600000   Res 1 unit    0.307778  ...    0.000000    0.0   \n",
      "...        ...           ...          ...         ...  ...         ...    ...   \n",
      "8663      1995  48433.698522  CONDOMINIUM    0.212222  ...    0.000000    0.0   \n",
      "8664      1995  48433.698522  CONDOMINIUM    0.212222  ...    0.000000    0.0   \n",
      "8666      1995  48433.698522  CONDOMINIUM    0.212222  ...    0.000000    0.0   \n",
      "8667      1995  48433.698522  CONDOMINIUM    0.212222  ...    0.000000    0.0   \n",
      "8668      1995  48433.698522  CONDOMINIUM    0.212222  ...    0.000000    0.0   \n",
      "\n",
      "      Extraction    parkDist  index_righ  avgAge      density  \\\n",
      "8925         0.0  206.891281          31    38.2  5280.017786   \n",
      "8930         0.0  180.000000          44    42.0  4015.284922   \n",
      "8931         0.0  228.000000          52    37.8  1838.638128   \n",
      "8933         0.0   60.000000          57    41.3  3029.824585   \n",
      "8935         0.0  213.063385          77    39.8  5056.843896   \n",
      "...          ...         ...         ...     ...          ...   \n",
      "8663         0.0  414.000000        9437    34.4  2991.180579   \n",
      "8664         0.0  414.000000        9437    34.4  2991.180579   \n",
      "8666         0.0  414.000000        9437    34.4  2991.180579   \n",
      "8667         0.0  414.000000        9437    34.4  2991.180579   \n",
      "8668         0.0  414.000000        9437    34.4  2991.180579   \n",
      "\n",
      "                                               geometry     lgTVal       lgTV  \n",
      "8925  POLYGON ((500367.000 4985467.000, 500366.990 4...  12.238540  12.238540  \n",
      "8930  POLYGON ((482388.000 4987556.000, 482387.990 4...  13.483528  13.483528  \n",
      "8931  POLYGON ((491770.000 4974189.000, 491769.990 4...  12.292709  12.292709  \n",
      "8933  POLYGON ((483546.000 4989614.000, 483545.990 4...  12.229789  12.229789  \n",
      "8935  POLYGON ((500945.000 4989718.000, 500944.990 4...  12.450586  12.450586  \n",
      "...                                                 ...        ...        ...  \n",
      "8663  POLYGON ((471779.000 5000277.000, 471778.990 5...  12.100712  12.100712  \n",
      "8664  POLYGON ((471779.000 5000277.000, 471778.990 5...  12.144197  12.144197  \n",
      "8666  POLYGON ((471779.000 5000277.000, 471778.990 5...  12.100712  12.100712  \n",
      "8667  POLYGON ((471779.000 5000277.000, 471778.990 5...  12.100712  12.100712  \n",
      "8668  POLYGON ((471779.000 5000277.000, 471778.990 5...  12.100712  12.100712  \n",
      "\n",
      "[5802 rows x 28 columns]\n"
     ]
    }
   ],
   "source": [
    "# have a duplicate\n",
    "b.drop(['lgTVal'], axis=1)\n",
    "print(b)"
   ]
  },
  {
   "cell_type": "code",
   "execution_count": 136,
   "metadata": {},
   "outputs": [
    {
     "data": {
      "text/plain": [
       "(array([1437., 1299.,  708.,  699.,  290.,  775.,  115.,  164.,  268.,\n",
       "          47.]),\n",
       " array([ -1.        ,  98.35421143, 197.70842285, 297.06263428,\n",
       "        396.4168457 , 495.77105713, 595.12526855, 694.47947998,\n",
       "        793.83369141, 893.18790283, 992.54211426]),\n",
       " <a list of 10 Patch objects>)"
      ]
     },
     "execution_count": 136,
     "metadata": {},
     "output_type": "execute_result"
    },
    {
     "data": {
      "image/png": "[encoded data removed]",
      "text/plain": [
       "<Figure size 432x288 with 1 Axes>"
      ]
     },
     "metadata": {
      "needs_background": "light"
     },
     "output_type": "display_data"
    }
   ],
   "source": [
    "# let's drop anything that's more than 1km from a park\n",
    "plt.hist(b['parkDist'])"
   ]
  },
  {
   "cell_type": "code",
   "execution_count": 144,
   "metadata": {},
   "outputs": [
    {
     "data": {
      "text/html": [
       "<div>\n",
       "<style scoped>\n",
       "    .dataframe tbody tr th:only-of-type {\n",
       "        vertical-align: middle;\n",
       "    }\n",
       "\n",
       "    .dataframe tbody tr th {\n",
       "        vertical-align: top;\n",
       "    }\n",
       "\n",
       "    .dataframe thead th {\n",
       "        text-align: right;\n",
       "    }\n",
       "</style>\n",
       "<table border=\"1\" class=\"dataframe\">\n",
       "  <thead>\n",
       "    <tr style=\"text-align: right;\">\n",
       "      <th></th>\n",
       "      <th>CityName</th>\n",
       "      <th>parkDist</th>\n",
       "    </tr>\n",
       "  </thead>\n",
       "  <tbody>\n",
       "    <tr>\n",
       "      <th>29</th>\n",
       "      <td>MINNETONKA</td>\n",
       "      <td>649.584303</td>\n",
       "    </tr>\n",
       "    <tr>\n",
       "      <th>13</th>\n",
       "      <td>GEM LAKE</td>\n",
       "      <td>427.611765</td>\n",
       "    </tr>\n",
       "    <tr>\n",
       "      <th>38</th>\n",
       "      <td>ORONO</td>\n",
       "      <td>426.351725</td>\n",
       "    </tr>\n",
       "    <tr>\n",
       "      <th>50</th>\n",
       "      <td>ST. ANTHONY</td>\n",
       "      <td>420.317515</td>\n",
       "    </tr>\n",
       "    <tr>\n",
       "      <th>58</th>\n",
       "      <td>WOODLAND</td>\n",
       "      <td>395.695969</td>\n",
       "    </tr>\n",
       "    <tr>\n",
       "      <th>56</th>\n",
       "      <td>WHITE BEAR LAKE</td>\n",
       "      <td>373.285763</td>\n",
       "    </tr>\n",
       "    <tr>\n",
       "      <th>43</th>\n",
       "      <td>ROGERS</td>\n",
       "      <td>367.921632</td>\n",
       "    </tr>\n",
       "    <tr>\n",
       "      <th>47</th>\n",
       "      <td>SPRING LAKE PARK</td>\n",
       "      <td>367.766235</td>\n",
       "    </tr>\n",
       "    <tr>\n",
       "      <th>46</th>\n",
       "      <td>SHOREWOOD</td>\n",
       "      <td>365.857031</td>\n",
       "    </tr>\n",
       "    <tr>\n",
       "      <th>45</th>\n",
       "      <td>SHOREVIEW</td>\n",
       "      <td>356.168855</td>\n",
       "    </tr>\n",
       "    <tr>\n",
       "      <th>28</th>\n",
       "      <td>MINNEAPOLIS</td>\n",
       "      <td>347.102217</td>\n",
       "    </tr>\n",
       "    <tr>\n",
       "      <th>36</th>\n",
       "      <td>NORTH OAKS</td>\n",
       "      <td>310.786089</td>\n",
       "    </tr>\n",
       "    <tr>\n",
       "      <th>4</th>\n",
       "      <td>CHAMPLIN</td>\n",
       "      <td>300.965698</td>\n",
       "    </tr>\n",
       "    <tr>\n",
       "      <th>31</th>\n",
       "      <td>MINNETRISTA</td>\n",
       "      <td>295.120044</td>\n",
       "    </tr>\n",
       "    <tr>\n",
       "      <th>49</th>\n",
       "      <td>ST PAUL</td>\n",
       "      <td>291.354138</td>\n",
       "    </tr>\n",
       "    <tr>\n",
       "      <th>44</th>\n",
       "      <td>ROSEVILLE</td>\n",
       "      <td>289.001093</td>\n",
       "    </tr>\n",
       "    <tr>\n",
       "      <th>55</th>\n",
       "      <td>WAYZATA</td>\n",
       "      <td>288.641744</td>\n",
       "    </tr>\n",
       "    <tr>\n",
       "      <th>7</th>\n",
       "      <td>DAYTON</td>\n",
       "      <td>286.149992</td>\n",
       "    </tr>\n",
       "    <tr>\n",
       "      <th>27</th>\n",
       "      <td>MEDINA</td>\n",
       "      <td>283.685139</td>\n",
       "    </tr>\n",
       "    <tr>\n",
       "      <th>21</th>\n",
       "      <td>LITTLE CANADA</td>\n",
       "      <td>282.888277</td>\n",
       "    </tr>\n",
       "    <tr>\n",
       "      <th>25</th>\n",
       "      <td>MAPLE PLAIN</td>\n",
       "      <td>281.643286</td>\n",
       "    </tr>\n",
       "    <tr>\n",
       "      <th>54</th>\n",
       "      <td>VADNAIS HEIGHTS</td>\n",
       "      <td>278.400986</td>\n",
       "    </tr>\n",
       "    <tr>\n",
       "      <th>12</th>\n",
       "      <td>FALCON HEIGHTS</td>\n",
       "      <td>277.607480</td>\n",
       "    </tr>\n",
       "    <tr>\n",
       "      <th>1</th>\n",
       "      <td>BLOOMINGTON</td>\n",
       "      <td>273.226839</td>\n",
       "    </tr>\n",
       "    <tr>\n",
       "      <th>40</th>\n",
       "      <td>PLYMOUTH</td>\n",
       "      <td>267.365698</td>\n",
       "    </tr>\n",
       "    <tr>\n",
       "      <th>24</th>\n",
       "      <td>MAPLE GROVE</td>\n",
       "      <td>261.528182</td>\n",
       "    </tr>\n",
       "    <tr>\n",
       "      <th>22</th>\n",
       "      <td>LONG LAKE</td>\n",
       "      <td>261.040341</td>\n",
       "    </tr>\n",
       "    <tr>\n",
       "      <th>17</th>\n",
       "      <td>HANOVER</td>\n",
       "      <td>261.034428</td>\n",
       "    </tr>\n",
       "    <tr>\n",
       "      <th>41</th>\n",
       "      <td>RICHFIELD</td>\n",
       "      <td>255.688510</td>\n",
       "    </tr>\n",
       "    <tr>\n",
       "      <th>8</th>\n",
       "      <td>DEEPHAVEN</td>\n",
       "      <td>250.576231</td>\n",
       "    </tr>\n",
       "    <tr>\n",
       "      <th>0</th>\n",
       "      <td>ARDEN HILLS</td>\n",
       "      <td>235.335596</td>\n",
       "    </tr>\n",
       "    <tr>\n",
       "      <th>9</th>\n",
       "      <td>EDEN PRAIRIE</td>\n",
       "      <td>232.479796</td>\n",
       "    </tr>\n",
       "    <tr>\n",
       "      <th>26</th>\n",
       "      <td>MAPLEWOOD</td>\n",
       "      <td>219.134514</td>\n",
       "    </tr>\n",
       "    <tr>\n",
       "      <th>30</th>\n",
       "      <td>MINNETONKA BEACH</td>\n",
       "      <td>211.026062</td>\n",
       "    </tr>\n",
       "    <tr>\n",
       "      <th>6</th>\n",
       "      <td>CRYSTAL</td>\n",
       "      <td>210.528629</td>\n",
       "    </tr>\n",
       "    <tr>\n",
       "      <th>37</th>\n",
       "      <td>NORTH ST PAUL</td>\n",
       "      <td>206.450280</td>\n",
       "    </tr>\n",
       "    <tr>\n",
       "      <th>16</th>\n",
       "      <td>GREENWOOD</td>\n",
       "      <td>204.071388</td>\n",
       "    </tr>\n",
       "    <tr>\n",
       "      <th>57</th>\n",
       "      <td>WHITE BEAR TOWN</td>\n",
       "      <td>196.045323</td>\n",
       "    </tr>\n",
       "    <tr>\n",
       "      <th>42</th>\n",
       "      <td>ROBBINSDALE</td>\n",
       "      <td>191.307021</td>\n",
       "    </tr>\n",
       "    <tr>\n",
       "      <th>18</th>\n",
       "      <td>HOPKINS</td>\n",
       "      <td>186.508228</td>\n",
       "    </tr>\n",
       "    <tr>\n",
       "      <th>52</th>\n",
       "      <td>ST. LOUIS PARK</td>\n",
       "      <td>184.294166</td>\n",
       "    </tr>\n",
       "    <tr>\n",
       "      <th>35</th>\n",
       "      <td>NEW HOPE</td>\n",
       "      <td>184.165278</td>\n",
       "    </tr>\n",
       "    <tr>\n",
       "      <th>39</th>\n",
       "      <td>OSSEO</td>\n",
       "      <td>183.809591</td>\n",
       "    </tr>\n",
       "    <tr>\n",
       "      <th>51</th>\n",
       "      <td>ST. BONIFACIUS</td>\n",
       "      <td>180.663105</td>\n",
       "    </tr>\n",
       "    <tr>\n",
       "      <th>33</th>\n",
       "      <td>MOUNDS VIEW</td>\n",
       "      <td>177.820344</td>\n",
       "    </tr>\n",
       "    <tr>\n",
       "      <th>14</th>\n",
       "      <td>GOLDEN VALLEY</td>\n",
       "      <td>174.732413</td>\n",
       "    </tr>\n",
       "    <tr>\n",
       "      <th>10</th>\n",
       "      <td>EDINA</td>\n",
       "      <td>157.097973</td>\n",
       "    </tr>\n",
       "    <tr>\n",
       "      <th>19</th>\n",
       "      <td>INDEPENDENCE</td>\n",
       "      <td>152.516479</td>\n",
       "    </tr>\n",
       "    <tr>\n",
       "      <th>23</th>\n",
       "      <td>LORETTO</td>\n",
       "      <td>140.721741</td>\n",
       "    </tr>\n",
       "    <tr>\n",
       "      <th>34</th>\n",
       "      <td>NEW BRIGHTON</td>\n",
       "      <td>136.228061</td>\n",
       "    </tr>\n",
       "    <tr>\n",
       "      <th>3</th>\n",
       "      <td>BROOKLYN PARK</td>\n",
       "      <td>134.839058</td>\n",
       "    </tr>\n",
       "    <tr>\n",
       "      <th>32</th>\n",
       "      <td>MOUND</td>\n",
       "      <td>123.091480</td>\n",
       "    </tr>\n",
       "    <tr>\n",
       "      <th>5</th>\n",
       "      <td>CORCORAN</td>\n",
       "      <td>121.623685</td>\n",
       "    </tr>\n",
       "    <tr>\n",
       "      <th>53</th>\n",
       "      <td>TONKA BAY</td>\n",
       "      <td>112.157730</td>\n",
       "    </tr>\n",
       "    <tr>\n",
       "      <th>11</th>\n",
       "      <td>EXCELSIOR</td>\n",
       "      <td>102.176315</td>\n",
       "    </tr>\n",
       "    <tr>\n",
       "      <th>48</th>\n",
       "      <td>ST ANTHONY</td>\n",
       "      <td>102.000000</td>\n",
       "    </tr>\n",
       "    <tr>\n",
       "      <th>2</th>\n",
       "      <td>BROOKLYN CENTER</td>\n",
       "      <td>86.833359</td>\n",
       "    </tr>\n",
       "    <tr>\n",
       "      <th>20</th>\n",
       "      <td>LAUDERDALE</td>\n",
       "      <td>66.000000</td>\n",
       "    </tr>\n",
       "    <tr>\n",
       "      <th>15</th>\n",
       "      <td>GREENFIELD</td>\n",
       "      <td>44.144945</td>\n",
       "    </tr>\n",
       "  </tbody>\n",
       "</table>\n",
       "</div>"
      ],
      "text/plain": [
       "            CityName    parkDist\n",
       "29        MINNETONKA  649.584303\n",
       "13          GEM LAKE  427.611765\n",
       "38             ORONO  426.351725\n",
       "50       ST. ANTHONY  420.317515\n",
       "58          WOODLAND  395.695969\n",
       "56   WHITE BEAR LAKE  373.285763\n",
       "43            ROGERS  367.921632\n",
       "47  SPRING LAKE PARK  367.766235\n",
       "46         SHOREWOOD  365.857031\n",
       "45         SHOREVIEW  356.168855\n",
       "28       MINNEAPOLIS  347.102217\n",
       "36        NORTH OAKS  310.786089\n",
       "4           CHAMPLIN  300.965698\n",
       "31       MINNETRISTA  295.120044\n",
       "49           ST PAUL  291.354138\n",
       "44         ROSEVILLE  289.001093\n",
       "55           WAYZATA  288.641744\n",
       "7             DAYTON  286.149992\n",
       "27            MEDINA  283.685139\n",
       "21     LITTLE CANADA  282.888277\n",
       "25       MAPLE PLAIN  281.643286\n",
       "54   VADNAIS HEIGHTS  278.400986\n",
       "12    FALCON HEIGHTS  277.607480\n",
       "1        BLOOMINGTON  273.226839\n",
       "40          PLYMOUTH  267.365698\n",
       "24       MAPLE GROVE  261.528182\n",
       "22         LONG LAKE  261.040341\n",
       "17           HANOVER  261.034428\n",
       "41         RICHFIELD  255.688510\n",
       "8          DEEPHAVEN  250.576231\n",
       "0        ARDEN HILLS  235.335596\n",
       "9       EDEN PRAIRIE  232.479796\n",
       "26         MAPLEWOOD  219.134514\n",
       "30  MINNETONKA BEACH  211.026062\n",
       "6            CRYSTAL  210.528629\n",
       "37     NORTH ST PAUL  206.450280\n",
       "16         GREENWOOD  204.071388\n",
       "57   WHITE BEAR TOWN  196.045323\n",
       "42       ROBBINSDALE  191.307021\n",
       "18           HOPKINS  186.508228\n",
       "52    ST. LOUIS PARK  184.294166\n",
       "35          NEW HOPE  184.165278\n",
       "39             OSSEO  183.809591\n",
       "51    ST. BONIFACIUS  180.663105\n",
       "33       MOUNDS VIEW  177.820344\n",
       "14     GOLDEN VALLEY  174.732413\n",
       "10             EDINA  157.097973\n",
       "19      INDEPENDENCE  152.516479\n",
       "23           LORETTO  140.721741\n",
       "34      NEW BRIGHTON  136.228061\n",
       "3      BROOKLYN PARK  134.839058\n",
       "32             MOUND  123.091480\n",
       "5           CORCORAN  121.623685\n",
       "53         TONKA BAY  112.157730\n",
       "11         EXCELSIOR  102.176315\n",
       "48        ST ANTHONY  102.000000\n",
       "2    BROOKLYN CENTER   86.833359\n",
       "20        LAUDERDALE   66.000000\n",
       "15        GREENFIELD   44.144945"
      ]
     },
     "execution_count": 144,
     "metadata": {},
     "output_type": "execute_result"
    }
   ],
   "source": [
    "#interesting\n",
    "b.groupby('CityName', as_index=False).parkDist.mean().sort_values('parkDist', ascending=False)"
   ]
  },
  {
   "cell_type": "code",
   "execution_count": 178,
   "metadata": {},
   "outputs": [
    {
     "name": "stdout",
     "output_type": "stream",
     "text": [
      "0    6.907755\n",
      "dtype: float64\n"
     ]
    },
    {
     "name": "stderr",
     "output_type": "stream",
     "text": [
      "/Users/erikmichaelson/.pyenv/versions/3.8.1/Python.framework/Versions/3.8/lib/python3.8/site-packages/geopandas/geodataframe.py:853: SettingWithCopyWarning: \n",
      "A value is trying to be set on a copy of a slice from a DataFrame.\n",
      "Try using .loc[row_indexer,col_indexer] = value instead\n",
      "\n",
      "See the caveats in the documentation: https://pandas.pydata.org/pandas-docs/stable/user_guide/indexing.html#returning-a-view-versus-a-copy\n",
      "  super(GeoDataFrame, self).__setitem__(key, value)\n"
     ]
    },
    {
     "data": {
      "text/plain": [
       "(array([  6.,   0.,   0.,   0.,   0.,   0.,   0.,   0.,   2.,   0.,   0.,\n",
       "          0.,   0.,   0.,   0.,   0.,   0.,   0.,   1.,   2.,   0.,   0.,\n",
       "          0.,   0.,   0.,   0.,   0.,   5.,   1.,   1.,   1.,   0.,   1.,\n",
       "          0.,   0.,   4.,   1.,   0.,   0.,   2.,   5.,   7.,  10.,   5.,\n",
       "          5.,  15.,  26.,  54.,  99.,  91.,  99., 115., 172., 341., 151.,\n",
       "        433., 409., 257., 311., 325., 326., 304., 279., 277., 210., 203.,\n",
       "        172., 134., 136., 124., 125.,  70.,  74.,  73.,  80.,  48.,  33.,\n",
       "         36.,  19.,  32.,  29.,   9.,   4.,  10.,   5.,   4.,   7.,   8.,\n",
       "          3.,   1.,   1.,   1.,   2.,   1.,   1.,   1.,   1.,   0.,   1.,\n",
       "          1.]),\n",
       " array([ 6.90775528,  6.99223735,  7.07671943,  7.1612015 ,  7.24568358,\n",
       "         7.33016565,  7.41464773,  7.4991298 ,  7.58361188,  7.66809395,\n",
       "         7.75257603,  7.8370581 ,  7.92154017,  8.00602225,  8.09050432,\n",
       "         8.1749864 ,  8.25946847,  8.34395055,  8.42843262,  8.5129147 ,\n",
       "         8.59739677,  8.68187885,  8.76636092,  8.850843  ,  8.93532507,\n",
       "         9.01980714,  9.10428922,  9.18877129,  9.27325337,  9.35773544,\n",
       "         9.44221752,  9.52669959,  9.61118167,  9.69566374,  9.78014582,\n",
       "         9.86462789,  9.94910997, 10.03359204, 10.11807411, 10.20255619,\n",
       "        10.28703826, 10.37152034, 10.45600241, 10.54048449, 10.62496656,\n",
       "        10.70944864, 10.79393071, 10.87841279, 10.96289486, 11.04737694,\n",
       "        11.13185901, 11.21634108, 11.30082316, 11.38530523, 11.46978731,\n",
       "        11.55426938, 11.63875146, 11.72323353, 11.80771561, 11.89219768,\n",
       "        11.97667976, 12.06116183, 12.14564391, 12.23012598, 12.31460806,\n",
       "        12.39909013, 12.4835722 , 12.56805428, 12.65253635, 12.73701843,\n",
       "        12.8215005 , 12.90598258, 12.99046465, 13.07494673, 13.1594288 ,\n",
       "        13.24391088, 13.32839295, 13.41287503, 13.4973571 , 13.58183917,\n",
       "        13.66632125, 13.75080332, 13.8352854 , 13.91976747, 14.00424955,\n",
       "        14.08873162, 14.1732137 , 14.25769577, 14.34217785, 14.42665992,\n",
       "        14.511142  , 14.59562407, 14.68010614, 14.76458822, 14.84907029,\n",
       "        14.93355237, 15.01803444, 15.10251652, 15.18699859, 15.27148067,\n",
       "        15.35596274]),\n",
       " <a list of 100 Patch objects>)"
      ]
     },
     "execution_count": 178,
     "metadata": {},
     "output_type": "execute_result"
    },
    {
     "data": {
      "image/png": "[encoded data removed]",
      "text/plain": [
       "<Figure size 432x288 with 2 Axes>"
      ]
     },
     "metadata": {
      "needs_background": "light"
     },
     "output_type": "display_data"
    }
   ],
   "source": [
    "# orrrrr very low land value\n",
    "fig, axs = plt.subplots(2)\n",
    "\n",
    "b['lgLVal'] = np.log(b['LandValue'])\n",
    "axs[0].hist(b['lgLVal'], bins=100)\n",
    "print(b['lgLVal'].mode())\n",
    "\n",
    "b['lgBVal'] = np.log(b['BuildValue'], where=b['BuildValue']>0)\n",
    "axs[1].hist(b['lgBVal'], bins=100)"
   ]
  },
  {
   "cell_type": "markdown",
   "metadata": {},
   "source": [
    "This is a GREAT metric since, first of all, it is more 'normal' that total value, has a clear outlier - e^6.907755 = 1000. This must be a default value which can be used to id bad records. Home value again has some weird stuff in it - hopefully to be teased out later, but we have a clear place to drop."
   ]
  },
  {
   "cell_type": "code",
   "execution_count": 193,
   "metadata": {},
   "outputs": [
    {
     "name": "stdout",
     "output_type": "stream",
     "text": [
      "5243 5700.0 323836.9826435247 5662100.0\n"
     ]
    },
    {
     "data": {
      "image/png": "[encoded data removed]",
      "text/plain": [
       "<Figure size 432x288 with 2 Axes>"
      ]
     },
     "metadata": {
      "needs_background": "light"
     },
     "output_type": "display_data"
    }
   ],
   "source": [
    "c = c[c['LandValue']!=1000]\n",
    "c = c[c['BuildValue']>0]\n",
    "\n",
    "c['lgLVal'] = np.log(c['LandValue'])\n",
    "c['lgBVal'] = np.log(c['BuildValue'])\n",
    "\n",
    "fig, axs = plt.subplots(2)\n",
    "axs[0].hist(c['lgLVal'], bins=100)\n",
    "axs[1].hist(c['lgBVal'], bins=100)\n",
    "print(len(c), c['TotalValue'].min(), c['TotalValue'].mean(), c['TotalValue'].max())"
   ]
  },
  {
   "cell_type": "markdown",
   "metadata": {},
   "source": [
    "Now our summary statistics have SURPASSED the current online estimates. I'm happy though with the shape of our distribution. Let's check the distros of other things:"
   ]
  },
  {
   "cell_type": "code",
   "execution_count": 194,
   "metadata": {},
   "outputs": [
    {
     "name": "stdout",
     "output_type": "stream",
     "text": [
      "Index(['PointID', 'LandValue', 'BuildValue', 'TotalValue', 'SchoolDist',\n",
      "       'CityName', 'YearBuilt', 'SqMeters', 'LandUse', 'Grass/Shru',\n",
      "       'Bare Soil', 'Buildings', 'Roads/Pave', 'Lakes/Pond', 'Deciduous',\n",
      "       'Coniferous', 'Agricultur', 'Emergent W', 'Forested/S', 'River',\n",
      "       'Extraction', 'parkDist', 'index_righ', 'avgAge', 'density', 'geometry',\n",
      "       'lgTVal', 'lgTV', 'lgLVal', 'lgBVal'],\n",
      "      dtype='object')\n"
     ]
    }
   ],
   "source": [
    "print(c.columns)"
   ]
  },
  {
   "cell_type": "code",
   "execution_count": 220,
   "metadata": {},
   "outputs": [
    {
     "name": "stdout",
     "output_type": "stream",
     "text": [
      "0.0 0.2064322354524986 0.886666666666667\n"
     ]
    },
    {
     "data": {
      "image/png": "[encoded data removed]",
      "text/plain": [
       "<Figure size 720x1080 with 6 Axes>"
      ]
     },
     "metadata": {
      "needs_background": "light"
     },
     "output_type": "display_data"
    }
   ],
   "source": [
    "fig, axs = plt.subplots(6, figsize=(10,15))\n",
    "\n",
    "\n",
    "axs[0].hist(c['density'], bins=100)\n",
    "axs[1].hist(c['parkDist'], bins=100)\n",
    "axs[2].hist(c['Grass/Shru'], bins=100)\n",
    "axs[3].hist(c['Deciduous'], bins=100)\n",
    "axs[4].hist(c['Coniferous'], bins=100)\n",
    "axs[5].hist(c['Buildings'], bins=100)\n",
    "\n",
    "print(c['Deciduous'].min(), c['Deciduous'].mean(), c['Deciduous'].max())"
   ]
  },
  {
   "cell_type": "code",
   "execution_count": 200,
   "metadata": {},
   "outputs": [
    {
     "name": "stdout",
     "output_type": "stream",
     "text": [
      "1666 2437 2023\n",
      "456\n"
     ]
    }
   ],
   "source": [
    "print(len(c[c['Deciduous']==0]), len(c[c['Coniferous']==0]), len(c[c['Buildings']==0]))\n",
    "print(len(c[c['parkDist']==-1]))"
   ]
  },
  {
   "cell_type": "code",
   "execution_count": 201,
   "metadata": {},
   "outputs": [
    {
     "name": "stdout",
     "output_type": "stream",
     "text": [
      "5243\n",
      "4787\n"
     ]
    }
   ],
   "source": [
    "print(len(c))\n",
    "c = c[c['parkDist']!=-1]\n",
    "print(len(c))"
   ]
  },
  {
   "cell_type": "code",
   "execution_count": 202,
   "metadata": {},
   "outputs": [
    {
     "name": "stdout",
     "output_type": "stream",
     "text": [
      "1565 2196 1832\n"
     ]
    }
   ],
   "source": [
    "print(len(c[c['Deciduous']==0]), len(c[c['Coniferous']==0]), len(c[c['Buildings']==0]))"
   ]
  },
  {
   "cell_type": "code",
   "execution_count": 224,
   "metadata": {},
   "outputs": [],
   "source": [
    "test = c[c['Deciduous']>0.7]\n",
    "test['geometry'] = test['geometry'].representative_point()\n",
    "test.to_file('../data/MSP/final/noTrees.shp')"
   ]
  },
  {
   "cell_type": "code",
   "execution_count": null,
   "metadata": {},
   "outputs": [],
   "source": []
  }
 ],
 "metadata": {
  "kernelspec": {
   "display_name": "Python 3.8.1 64-bit ('3.8': pyenv)",
   "language": "python",
   "name": "python38164bit38pyenv6b1516eeccc6479883ee92cb2ca74559"
  },
  "language_info": {
   "codemirror_mode": {
    "name": "ipython",
    "version": 3
   },
   "file_extension": ".py",
   "mimetype": "text/x-python",
   "name": "python",
   "nbconvert_exporter": "python",
   "pygments_lexer": "ipython3",
   "version": "3.8.1"
  }
 },
 "nbformat": 4,
 "nbformat_minor": 4
}
