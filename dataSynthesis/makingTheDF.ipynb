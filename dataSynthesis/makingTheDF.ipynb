{
 "cells": [
  {
   "cell_type": "code",
   "execution_count": 1,
   "metadata": {
    "scrolled": false
   },
   "outputs": [],
   "source": [
    "import pandas as pd\n",
    "from aggregator import genPoints, avgGrndCover"
   ]
  },
  {
   "cell_type": "code",
   "execution_count": 2,
   "metadata": {},
   "outputs": [],
   "source": [
    "basePath = '../data/MSP/'\n",
    "mask = 'mask/CountyMask.shp'\n",
    "tcma = 'trees/tcma_clip.tif'\n",
    "park = 'parks/DistFromPark.tif'\n",
    "enum = { \n",
    "    1:\t'Grass/Shrub',\n",
    "    2:\t'Bare Soil',\n",
    "    3:\t'Buildings',\n",
    "    4:\t'Roads/Paved Surfaces',\n",
    "    5:\t'Lakes/Ponds',\n",
    "    6:\t'Deciduous Tree Canopy',\n",
    "    7:\t'Coniferous Tree Canopy',\n",
    "    8:\t'Agriculture',\n",
    "    9:\t'Emergent Wetland',\n",
    "    10:\t'Forested/Shrub Wetland',\n",
    "    11:\t'River',\n",
    "    12:\t'Extraction'\t}"
   ]
  },
  {
   "cell_type": "code",
   "execution_count": 3,
   "metadata": {},
   "outputs": [
    {
     "name": "stdout",
     "output_type": "stream",
     "text": [
      "outside the TC\n",
      "outside the TC\n",
      "outside the TC\n",
      "outside the TC\n",
      "outside the TC\n",
      "outside the TC\n"
     ]
    }
   ],
   "source": [
    "points = genPoints(10, basePath+mask)\n",
    "groundCover = avgGrndCover(points, basePath+tcma)"
   ]
  },
  {
   "cell_type": "code",
   "execution_count": 4,
   "metadata": {},
   "outputs": [
    {
     "name": "stdout",
     "output_type": "stream",
     "text": [
      "[[149, 0, 12, 58, 91, 228, 1, 109, 198, 54, 0, 0], [268, 0, 0, 7, 0, 409, 0, 14, 136, 66, 0, 0], [29, 0, 335, 370, 6, 148, 12, 0, 0, 0, 0, 0], [414, 0, 4, 98, 0, 274, 0, 0, 110, 0, 0, 0], [0, 0, 0, 0, 0, 0, 0, 0, 0, 0, 0, 0], [205, 0, 0, 29, 12, 205, 12, 423, 14, 0, 0, 0], [0, 0, 0, 0, 0, 0, 0, 0, 0, 0, 0, 0], [324, 0, 26, 99, 0, 426, 25, 0, 0, 0, 0, 0], [0, 0, 0, 0, 900, 0, 0, 0, 0, 0, 0, 0], [263, 0, 0, 139, 233, 258, 0, 0, 7, 0, 0, 0]]\n"
     ]
    },
    {
     "data": {
      "text/plain": [
       "'\\npointsAndCover = zip(points, test)\\nprint(pointsAndCover)\\ndf = pd.DataFrame.from_records(pointsAndCover)\\nprint(df)\\n'"
      ]
     },
     "execution_count": 4,
     "metadata": {},
     "output_type": "execute_result"
    }
   ],
   "source": [
    "test = [[t[1] for t in row] for row in groundCover]\n",
    "print(test)\n",
    "\n",
    "\"\"\"\n",
    "pointsAndCover = zip(points, test)\n",
    "print(pointsAndCover)\n",
    "df = pd.DataFrame.from_records(pointsAndCover)\n",
    "print(df)\n",
    "\"\"\""
   ]
  },
  {
   "cell_type": "code",
   "execution_count": 5,
   "metadata": {},
   "outputs": [],
   "source": [
    "from aggregator import rastValAtPoints"
   ]
  },
  {
   "cell_type": "code",
   "execution_count": 6,
   "metadata": {},
   "outputs": [
    {
     "name": "stdout",
     "output_type": "stream",
     "text": [
      "[-1.0, 694.0576, 318.96082, -1.0, 210.0, 608.34204, -1.0, 572.1119, -1.0, 679.7764]\n"
     ]
    }
   ],
   "source": [
    "# park distance\n",
    "parkdist = rastValAtPoints(points, basePath+park)\n",
    "print(parkdist)"
   ]
  },
  {
   "cell_type": "code",
   "execution_count": 9,
   "metadata": {},
   "outputs": [
    {
     "name": "stdout",
     "output_type": "stream",
     "text": [
      "   Grass/Shrub  Bare Soil  Buildings  Roads/Paved Surfaces  Lakes/Ponds  \\\n",
      "0     0.165556        0.0   0.013333              0.064444     0.101111   \n",
      "1     0.297778        0.0   0.000000              0.007778     0.000000   \n",
      "2     0.032222        0.0   0.372222              0.411111     0.006667   \n",
      "3     0.460000        0.0   0.004444              0.108889     0.000000   \n",
      "4     0.000000        0.0   0.000000              0.000000     0.000000   \n",
      "5     0.227778        0.0   0.000000              0.032222     0.013333   \n",
      "6     0.000000        0.0   0.000000              0.000000     0.000000   \n",
      "7     0.360000        0.0   0.028889              0.110000     0.000000   \n",
      "8     0.000000        0.0   0.000000              0.000000     1.000000   \n",
      "9     0.292222        0.0   0.000000              0.154444     0.258889   \n",
      "\n",
      "   Deciduous Tree Canopy  Coniferous Tree Canopy  Agriculture  \\\n",
      "0               0.253333                0.001111     0.121111   \n",
      "1               0.454444                0.000000     0.015556   \n",
      "2               0.164444                0.013333     0.000000   \n",
      "3               0.304444                0.000000     0.000000   \n",
      "4               0.000000                0.000000     0.000000   \n",
      "5               0.227778                0.013333     0.470000   \n",
      "6               0.000000                0.000000     0.000000   \n",
      "7               0.473333                0.027778     0.000000   \n",
      "8               0.000000                0.000000     0.000000   \n",
      "9               0.286667                0.000000     0.000000   \n",
      "\n",
      "   Emergent Wetland  Forested/Shrub Wetland  River  Extraction  \\\n",
      "0          0.220000                0.060000    0.0         0.0   \n",
      "1          0.151111                0.073333    0.0         0.0   \n",
      "2          0.000000                0.000000    0.0         0.0   \n",
      "3          0.122222                0.000000    0.0         0.0   \n",
      "4          0.000000                0.000000    0.0         0.0   \n",
      "5          0.015556                0.000000    0.0         0.0   \n",
      "6          0.000000                0.000000    0.0         0.0   \n",
      "7          0.000000                0.000000    0.0         0.0   \n",
      "8          0.000000                0.000000    0.0         0.0   \n",
      "9          0.007778                0.000000    0.0         0.0   \n",
      "\n",
      "              coords       pdist  \n",
      "0  (456564, 4978228)   -1.000000  \n",
      "1  (451227, 4978426)  694.057617  \n",
      "2  (463950, 4989029)  318.960815  \n",
      "3  (444990, 4988564)   -1.000000  \n",
      "4  (476982, 4962123)  210.000000  \n",
      "5  (453214, 4979664)  608.342041  \n",
      "6  (454215, 5000388)   -1.000000  \n",
      "7  (487835, 4996246)  572.111877  \n",
      "8  (452404, 4996134)   -1.000000  \n",
      "9  (492136, 4986567)  679.776428  \n"
     ]
    }
   ],
   "source": [
    "df = pd.DataFrame([[t/900 for t in row] for row in test], columns=enum.values())\n",
    "df['coords'] = points\n",
    "df['pdist'] = parkdist\n",
    "\n",
    "print(df)"
   ]
  },
  {
   "cell_type": "code",
   "execution_count": null,
   "metadata": {},
   "outputs": [],
   "source": []
  }
 ],
 "metadata": {
  "kernelspec": {
   "display_name": "Python 3.8.1 64-bit ('3.8': pyenv)",
   "language": "python",
   "name": "python38164bit38pyenv6b1516eeccc6479883ee92cb2ca74559"
  },
  "language_info": {
   "codemirror_mode": {
    "name": "ipython",
    "version": 3
   },
   "file_extension": ".py",
   "mimetype": "text/x-python",
   "name": "python",
   "nbconvert_exporter": "python",
   "pygments_lexer": "ipython3",
   "version": "3.8.1"
  }
 },
 "nbformat": 4,
 "nbformat_minor": 4
}
